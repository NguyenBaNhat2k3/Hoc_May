{
 "cells": [
  {
   "cell_type": "markdown",
   "id": "eae6a64a",
   "metadata": {},
   "source": [
    "# Predicting Heart Disease using Machine Learning\n",
    "#Hà\n"
   ]
  },
  {
   "cell_type": "code",
   "execution_count": 63,
   "id": "d5fd4bc7",
   "metadata": {},
   "outputs": [],
   "source": [
    "# Regular EDA and plotting libraries\n",
    "import numpy as np\n",
    "import pandas as pd\n",
    "import matplotlib.pyplot as plt\n",
    "import seaborn as sns\n",
    "\n",
    "# Models from scikit-learn\n",
    "from sklearn.linear_model import LogisticRegression\n",
    "\n",
    "from sklearn.svm import SVC\n",
    "\n",
    "\n",
    "# Model Evaluations\n",
    "from sklearn.model_selection import train_test_split, cross_val_score\n",
    "\n",
    "from sklearn.metrics import precision_score, recall_score, f1_score, accuracy_score\n"
   ]
  },
  {
   "cell_type": "code",
   "execution_count": 64,
   "id": "bcf3f78f",
   "metadata": {},
   "outputs": [],
   "source": [
    "df = pd.read_csv('C:\\\\Users\\\\nguye\\\\OneDrive\\\\Documents\\\\heart-disease.csv')"
   ]
  },
  {
   "cell_type": "code",
   "execution_count": 65,
   "id": "7494b0da",
   "metadata": {},
   "outputs": [
    {
     "data": {
      "text/html": [
       "<div>\n",
       "<style scoped>\n",
       "    .dataframe tbody tr th:only-of-type {\n",
       "        vertical-align: middle;\n",
       "    }\n",
       "\n",
       "    .dataframe tbody tr th {\n",
       "        vertical-align: top;\n",
       "    }\n",
       "\n",
       "    .dataframe thead th {\n",
       "        text-align: right;\n",
       "    }\n",
       "</style>\n",
       "<table border=\"1\" class=\"dataframe\">\n",
       "  <thead>\n",
       "    <tr style=\"text-align: right;\">\n",
       "      <th></th>\n",
       "      <th>age</th>\n",
       "      <th>sex</th>\n",
       "      <th>cp</th>\n",
       "      <th>trestbps</th>\n",
       "      <th>chol</th>\n",
       "      <th>fbs</th>\n",
       "      <th>restecg</th>\n",
       "      <th>thalach</th>\n",
       "      <th>exang</th>\n",
       "      <th>oldpeak</th>\n",
       "      <th>slope</th>\n",
       "      <th>ca</th>\n",
       "      <th>thal</th>\n",
       "      <th>target</th>\n",
       "    </tr>\n",
       "  </thead>\n",
       "  <tbody>\n",
       "    <tr>\n",
       "      <th>0</th>\n",
       "      <td>63</td>\n",
       "      <td>1</td>\n",
       "      <td>3</td>\n",
       "      <td>145</td>\n",
       "      <td>233</td>\n",
       "      <td>1</td>\n",
       "      <td>0</td>\n",
       "      <td>150</td>\n",
       "      <td>0</td>\n",
       "      <td>2.3</td>\n",
       "      <td>0</td>\n",
       "      <td>0</td>\n",
       "      <td>1</td>\n",
       "      <td>1</td>\n",
       "    </tr>\n",
       "    <tr>\n",
       "      <th>1</th>\n",
       "      <td>37</td>\n",
       "      <td>1</td>\n",
       "      <td>2</td>\n",
       "      <td>130</td>\n",
       "      <td>250</td>\n",
       "      <td>0</td>\n",
       "      <td>1</td>\n",
       "      <td>187</td>\n",
       "      <td>0</td>\n",
       "      <td>3.5</td>\n",
       "      <td>0</td>\n",
       "      <td>0</td>\n",
       "      <td>2</td>\n",
       "      <td>1</td>\n",
       "    </tr>\n",
       "    <tr>\n",
       "      <th>2</th>\n",
       "      <td>41</td>\n",
       "      <td>0</td>\n",
       "      <td>1</td>\n",
       "      <td>130</td>\n",
       "      <td>204</td>\n",
       "      <td>0</td>\n",
       "      <td>0</td>\n",
       "      <td>172</td>\n",
       "      <td>0</td>\n",
       "      <td>1.4</td>\n",
       "      <td>2</td>\n",
       "      <td>0</td>\n",
       "      <td>2</td>\n",
       "      <td>1</td>\n",
       "    </tr>\n",
       "  </tbody>\n",
       "</table>\n",
       "</div>"
      ],
      "text/plain": [
       "   age  sex  cp  trestbps  chol  fbs  restecg  thalach  exang  oldpeak  slope  \\\n",
       "0   63    1   3       145   233    1        0      150      0      2.3      0   \n",
       "1   37    1   2       130   250    0        1      187      0      3.5      0   \n",
       "2   41    0   1       130   204    0        0      172      0      1.4      2   \n",
       "\n",
       "   ca  thal  target  \n",
       "0   0     1       1  \n",
       "1   0     2       1  \n",
       "2   0     2       1  "
      ]
     },
     "execution_count": 65,
     "metadata": {},
     "output_type": "execute_result"
    }
   ],
   "source": [
    "df.head(3)"
   ]
  },
  {
   "cell_type": "markdown",
   "id": "c4f8e0e1",
   "metadata": {},
   "source": [
    "1. age -  Tuổi\n",
    "2. sex - (1 = male; 0 = female) \n",
    "3. cp  - Mức độ tức ngực\n",
    "    * 0\n",
    "    * 1\n",
    "    * 2\n",
    "    * 3\n",
    "4. trestbps - huyết áp\n",
    "    \n",
    "5. chol mg/dl - lượng cholestoral trong máu\n",
    "    \n",
    "6. fbs - (fasting blood sugar > 120 mg/dl) (1 = true; 0 = false) - lượng đường trong máu\n",
    "    \n",
    "7. restecg  - kết quả điện tâm đồ\n",
    "    * 0 \n",
    "    * 1\n",
    "       \n",
    "    * 2:\n",
    "8. thalach - nhịp tim\n",
    "9. exang  (1 = yes; 0 = no) - đau thắt ngực khi tập thể dục\n",
    "10. oldpeak - tình trạng stress\n",
    "    \n",
    "11. slope - the slope of the peak exercise ST segment - \n",
    "    * 0: Upsloping: better heart rate with excercise (uncommon)\n",
    "    * 1: Flatsloping: minimal change (typical healthy heart)\n",
    "    * 2: Downslopins: signs of unhealthy heart\n",
    "12. ca (0-3) - số lượng các mạch chính\n",
    "    \n",
    "13. thal - thalium stress result - stress thalium\n",
    "    * 1,3: normal\n",
    "    * 6: fixed defect: used to be defect but ok now\n",
    "    * 7: reversable defect: no proper blood movement when excercising \n",
    "14. target - have disease or not (1=yes, 0=no) (= the predicted attribute)"
   ]
  },
  {
   "cell_type": "code",
   "execution_count": 66,
   "id": "ac6c3a83",
   "metadata": {},
   "outputs": [
    {
     "data": {
      "text/html": [
       "<div>\n",
       "<style scoped>\n",
       "    .dataframe tbody tr th:only-of-type {\n",
       "        vertical-align: middle;\n",
       "    }\n",
       "\n",
       "    .dataframe tbody tr th {\n",
       "        vertical-align: top;\n",
       "    }\n",
       "\n",
       "    .dataframe thead th {\n",
       "        text-align: right;\n",
       "    }\n",
       "</style>\n",
       "<table border=\"1\" class=\"dataframe\">\n",
       "  <thead>\n",
       "    <tr style=\"text-align: right;\">\n",
       "      <th></th>\n",
       "      <th>age</th>\n",
       "      <th>sex</th>\n",
       "      <th>cp</th>\n",
       "      <th>trestbps</th>\n",
       "      <th>chol</th>\n",
       "      <th>fbs</th>\n",
       "      <th>restecg</th>\n",
       "      <th>thalach</th>\n",
       "      <th>exang</th>\n",
       "      <th>oldpeak</th>\n",
       "      <th>slope</th>\n",
       "      <th>ca</th>\n",
       "      <th>thal</th>\n",
       "      <th>target</th>\n",
       "    </tr>\n",
       "  </thead>\n",
       "  <tbody>\n",
       "    <tr>\n",
       "      <th>298</th>\n",
       "      <td>57</td>\n",
       "      <td>0</td>\n",
       "      <td>0</td>\n",
       "      <td>140</td>\n",
       "      <td>241</td>\n",
       "      <td>0</td>\n",
       "      <td>1</td>\n",
       "      <td>123</td>\n",
       "      <td>1</td>\n",
       "      <td>0.2</td>\n",
       "      <td>1</td>\n",
       "      <td>0</td>\n",
       "      <td>3</td>\n",
       "      <td>0</td>\n",
       "    </tr>\n",
       "    <tr>\n",
       "      <th>299</th>\n",
       "      <td>45</td>\n",
       "      <td>1</td>\n",
       "      <td>3</td>\n",
       "      <td>110</td>\n",
       "      <td>264</td>\n",
       "      <td>0</td>\n",
       "      <td>1</td>\n",
       "      <td>132</td>\n",
       "      <td>0</td>\n",
       "      <td>1.2</td>\n",
       "      <td>1</td>\n",
       "      <td>0</td>\n",
       "      <td>3</td>\n",
       "      <td>0</td>\n",
       "    </tr>\n",
       "    <tr>\n",
       "      <th>300</th>\n",
       "      <td>68</td>\n",
       "      <td>1</td>\n",
       "      <td>0</td>\n",
       "      <td>144</td>\n",
       "      <td>193</td>\n",
       "      <td>1</td>\n",
       "      <td>1</td>\n",
       "      <td>141</td>\n",
       "      <td>0</td>\n",
       "      <td>3.4</td>\n",
       "      <td>1</td>\n",
       "      <td>2</td>\n",
       "      <td>3</td>\n",
       "      <td>0</td>\n",
       "    </tr>\n",
       "    <tr>\n",
       "      <th>301</th>\n",
       "      <td>57</td>\n",
       "      <td>1</td>\n",
       "      <td>0</td>\n",
       "      <td>130</td>\n",
       "      <td>131</td>\n",
       "      <td>0</td>\n",
       "      <td>1</td>\n",
       "      <td>115</td>\n",
       "      <td>1</td>\n",
       "      <td>1.2</td>\n",
       "      <td>1</td>\n",
       "      <td>1</td>\n",
       "      <td>3</td>\n",
       "      <td>0</td>\n",
       "    </tr>\n",
       "    <tr>\n",
       "      <th>302</th>\n",
       "      <td>57</td>\n",
       "      <td>0</td>\n",
       "      <td>1</td>\n",
       "      <td>130</td>\n",
       "      <td>236</td>\n",
       "      <td>0</td>\n",
       "      <td>0</td>\n",
       "      <td>174</td>\n",
       "      <td>0</td>\n",
       "      <td>0.0</td>\n",
       "      <td>1</td>\n",
       "      <td>1</td>\n",
       "      <td>2</td>\n",
       "      <td>0</td>\n",
       "    </tr>\n",
       "  </tbody>\n",
       "</table>\n",
       "</div>"
      ],
      "text/plain": [
       "     age  sex  cp  trestbps  chol  fbs  restecg  thalach  exang  oldpeak  \\\n",
       "298   57    0   0       140   241    0        1      123      1      0.2   \n",
       "299   45    1   3       110   264    0        1      132      0      1.2   \n",
       "300   68    1   0       144   193    1        1      141      0      3.4   \n",
       "301   57    1   0       130   131    0        1      115      1      1.2   \n",
       "302   57    0   1       130   236    0        0      174      0      0.0   \n",
       "\n",
       "     slope  ca  thal  target  \n",
       "298      1   0     3       0  \n",
       "299      1   0     3       0  \n",
       "300      1   2     3       0  \n",
       "301      1   1     3       0  \n",
       "302      1   1     2       0  "
      ]
     },
     "execution_count": 66,
     "metadata": {},
     "output_type": "execute_result"
    }
   ],
   "source": [
    "df.tail(5)"
   ]
  },
  {
   "cell_type": "code",
   "execution_count": 67,
   "id": "1dc93820",
   "metadata": {},
   "outputs": [],
   "source": [
    "#Tới"
   ]
  },
  {
   "cell_type": "code",
   "execution_count": 68,
   "id": "6787d413",
   "metadata": {},
   "outputs": [
    {
     "name": "stdout",
     "output_type": "stream",
     "text": [
      "<class 'pandas.core.frame.DataFrame'>\n",
      "RangeIndex: 303 entries, 0 to 302\n",
      "Data columns (total 14 columns):\n",
      " #   Column    Non-Null Count  Dtype  \n",
      "---  ------    --------------  -----  \n",
      " 0   age       303 non-null    int64  \n",
      " 1   sex       303 non-null    int64  \n",
      " 2   cp        303 non-null    int64  \n",
      " 3   trestbps  303 non-null    int64  \n",
      " 4   chol      303 non-null    int64  \n",
      " 5   fbs       303 non-null    int64  \n",
      " 6   restecg   303 non-null    int64  \n",
      " 7   thalach   303 non-null    int64  \n",
      " 8   exang     303 non-null    int64  \n",
      " 9   oldpeak   303 non-null    float64\n",
      " 10  slope     303 non-null    int64  \n",
      " 11  ca        303 non-null    int64  \n",
      " 12  thal      303 non-null    int64  \n",
      " 13  target    303 non-null    int64  \n",
      "dtypes: float64(1), int64(13)\n",
      "memory usage: 33.3 KB\n"
     ]
    }
   ],
   "source": [
    "df.info()"
   ]
  },
  {
   "cell_type": "code",
   "execution_count": 69,
   "id": "0af620aa",
   "metadata": {},
   "outputs": [
    {
     "data": {
      "text/plain": [
       "target\n",
       "1    165\n",
       "0    138\n",
       "Name: count, dtype: int64"
      ]
     },
     "execution_count": 69,
     "metadata": {},
     "output_type": "execute_result"
    }
   ],
   "source": [
    "df['target'].value_counts() #kết quả chẩn đoán cuối (1- có mắc bệnh, 0- không mắc bệnh)"
   ]
  },
  {
   "cell_type": "code",
   "execution_count": 70,
   "id": "219e53b2",
   "metadata": {},
   "outputs": [
    {
     "data": {
      "text/plain": [
       "Text(0, 0.5, 'Count')"
      ]
     },
     "execution_count": 70,
     "metadata": {},
     "output_type": "execute_result"
    },
    {
     "data": {
      "image/png": "[encoded data removed]",
      "text/plain": [
       "<Figure size 640x480 with 1 Axes>"
      ]
     },
     "metadata": {},
     "output_type": "display_data"
    }
   ],
   "source": [
    "df['target'].value_counts().plot.bar(color=['salmon', 'lightblue'])     #biểu thị mô hình tỉ lệ chẩn đoán \n",
    "plt.xlabel('0: No Disease, 1: Heart Disease')\n",
    "plt.ylabel('Count')"
   ]
  },
  {
   "cell_type": "code",
   "execution_count": null,
   "id": "ef7caaa9",
   "metadata": {},
   "outputs": [],
   "source": []
  },
  {
   "cell_type": "code",
   "execution_count": 71,
   "id": "20adbb2a",
   "metadata": {},
   "outputs": [
    {
     "data": {
      "text/plain": [
       "sex\n",
       "1    207\n",
       "0     96\n",
       "Name: count, dtype: int64"
      ]
     },
     "execution_count": 71,
     "metadata": {},
     "output_type": "execute_result"
    }
   ],
   "source": [
    "df['sex'].value_counts()        #đưa ra số lượng giới tính bệnh nhân(1-nam, 0-nữ)"
   ]
  },
  {
   "cell_type": "code",
   "execution_count": 72,
   "id": "df116456",
   "metadata": {},
   "outputs": [
    {
     "data": {
      "text/html": [
       "<div>\n",
       "<style scoped>\n",
       "    .dataframe tbody tr th:only-of-type {\n",
       "        vertical-align: middle;\n",
       "    }\n",
       "\n",
       "    .dataframe tbody tr th {\n",
       "        vertical-align: top;\n",
       "    }\n",
       "\n",
       "    .dataframe thead th {\n",
       "        text-align: right;\n",
       "    }\n",
       "</style>\n",
       "<table border=\"1\" class=\"dataframe\">\n",
       "  <thead>\n",
       "    <tr style=\"text-align: right;\">\n",
       "      <th>target</th>\n",
       "      <th>0</th>\n",
       "      <th>1</th>\n",
       "    </tr>\n",
       "    <tr>\n",
       "      <th>sex</th>\n",
       "      <th></th>\n",
       "      <th></th>\n",
       "    </tr>\n",
       "  </thead>\n",
       "  <tbody>\n",
       "    <tr>\n",
       "      <th>0</th>\n",
       "      <td>24</td>\n",
       "      <td>72</td>\n",
       "    </tr>\n",
       "    <tr>\n",
       "      <th>1</th>\n",
       "      <td>114</td>\n",
       "      <td>93</td>\n",
       "    </tr>\n",
       "  </tbody>\n",
       "</table>\n",
       "</div>"
      ],
      "text/plain": [
       "target    0   1\n",
       "sex            \n",
       "0        24  72\n",
       "1       114  93"
      ]
     },
     "execution_count": 72,
     "metadata": {},
     "output_type": "execute_result"
    }
   ],
   "source": [
    "pd.crosstab(df['sex'], df['target'])        #đưa ra số lượng người mắc bệnh và không mắc bệnh theo giới tính"
   ]
  },
  {
   "cell_type": "code",
   "execution_count": 73,
   "id": "6a997e2d",
   "metadata": {},
   "outputs": [
    {
     "data": {
      "text/plain": [
       "(0.75, 0.4492753623188406)"
      ]
     },
     "execution_count": 73,
     "metadata": {},
     "output_type": "execute_result"
    }
   ],
   "source": [
    "72/(24+72), 93/(114+93)"
   ]
  },
  {
   "cell_type": "code",
   "execution_count": 74,
   "id": "f03306a0",
   "metadata": {},
   "outputs": [
    {
     "data": {
      "text/plain": [
       "(array([0, 1]), [Text(0, 0, '0'), Text(1, 0, '1')])"
      ]
     },
     "execution_count": 74,
     "metadata": {},
     "output_type": "execute_result"
    },
    {
     "data": {
      "image/png": "[encoded data removed]",
      "text/plain": [
       "<Figure size 640x480 with 1 Axes>"
      ]
     },
     "metadata": {},
     "output_type": "display_data"
    }
   ],
   "source": [
    "pd.crosstab(df['sex'], df['target']).plot(kind='bar')       #Mô hình biểu diễn tỉ lệ mắc bệnh theo giới tính\n",
    "plt.title('Heart disease frequency by Sex')\n",
    "plt.xlabel('0: No Disease, 1: Heart Disease ')\n",
    "plt.ylabel('Count')\n",
    "plt.legend(['Female', 'Male'])\n",
    "plt.xticks(rotation=0)"
   ]
  },
  {
   "cell_type": "code",
   "execution_count": 75,
   "id": "7cefa91b",
   "metadata": {},
   "outputs": [
    {
     "data": {
      "text/html": [
       "<div>\n",
       "<style scoped>\n",
       "    .dataframe tbody tr th:only-of-type {\n",
       "        vertical-align: middle;\n",
       "    }\n",
       "\n",
       "    .dataframe tbody tr th {\n",
       "        vertical-align: top;\n",
       "    }\n",
       "\n",
       "    .dataframe thead th {\n",
       "        text-align: right;\n",
       "    }\n",
       "</style>\n",
       "<table border=\"1\" class=\"dataframe\">\n",
       "  <thead>\n",
       "    <tr style=\"text-align: right;\">\n",
       "      <th>cp</th>\n",
       "      <th>0</th>\n",
       "      <th>1</th>\n",
       "      <th>2</th>\n",
       "      <th>3</th>\n",
       "    </tr>\n",
       "    <tr>\n",
       "      <th>target</th>\n",
       "      <th></th>\n",
       "      <th></th>\n",
       "      <th></th>\n",
       "      <th></th>\n",
       "    </tr>\n",
       "  </thead>\n",
       "  <tbody>\n",
       "    <tr>\n",
       "      <th>0</th>\n",
       "      <td>104</td>\n",
       "      <td>9</td>\n",
       "      <td>18</td>\n",
       "      <td>7</td>\n",
       "    </tr>\n",
       "    <tr>\n",
       "      <th>1</th>\n",
       "      <td>39</td>\n",
       "      <td>41</td>\n",
       "      <td>69</td>\n",
       "      <td>16</td>\n",
       "    </tr>\n",
       "  </tbody>\n",
       "</table>\n",
       "</div>"
      ],
      "text/plain": [
       "cp        0   1   2   3\n",
       "target                 \n",
       "0       104   9  18   7\n",
       "1        39  41  69  16"
      ]
     },
     "execution_count": 75,
     "metadata": {},
     "output_type": "execute_result"
    }
   ],
   "source": [
    "pd.crosstab(df['target'], df['cp'])     #Tỉ lệ mắc bệnh theo mức độ tức ngực "
   ]
  },
  {
   "cell_type": "code",
   "execution_count": 76,
   "id": "0472bcb7",
   "metadata": {},
   "outputs": [
    {
     "data": {
      "text/plain": [
       "(array([0, 1, 2, 3]),\n",
       " [Text(0, 0, '0'), Text(1, 0, '1'), Text(2, 0, '2'), Text(3, 0, '3')])"
      ]
     },
     "execution_count": 76,
     "metadata": {},
     "output_type": "execute_result"
    },
    {
     "data": {
      "image/png": "[encoded data removed]",
      "text/plain": [
       "<Figure size 640x480 with 1 Axes>"
      ]
     },
     "metadata": {},
     "output_type": "display_data"
    }
   ],
   "source": [
    "pd.crosstab(df['cp'], df['target']).plot(kind='bar', color=['lightblue', 'salmon'])\n",
    "\n",
    "plt.title('Heart Disease Frequency per Chest Pain level')       #Mô hình tỉ lệ mắc bệnh theo mức độ tức ngực\n",
    "plt.xlabel('Chest Pain Level')\n",
    "plt.ylabel('Count')\n",
    "plt.legend(['No Diease', 'Heart Disease'])\n",
    "plt.xticks(rotation=0)"
   ]
  },
  {
   "cell_type": "markdown",
   "id": "54b9e589",
   "metadata": {},
   "source": [
    "# Modelling \n",
    "#Nhật\n",
    "\n"
   ]
  },
  {
   "cell_type": "code",
   "execution_count": 77,
   "id": "4710dc65",
   "metadata": {},
   "outputs": [],
   "source": [
    "# Chia dữ liệu thành 2 tập X và Y \n",
    "X = df.drop('target', axis=1)\n",
    "y = df['target']"
   ]
  },
  {
   "cell_type": "code",
   "execution_count": 78,
   "id": "f29addbe",
   "metadata": {},
   "outputs": [],
   "source": [
    "# Chia dữ liệu, 80% tập train, 20% tập test, lấy cơ sở cứ 42 mẫu dự đoán 1 mẫu tiếp theo\n",
    "X_train, X_test, y_train, y_test = train_test_split(X, y, test_size=0.2, random_state=42)"
   ]
  },
  {
   "cell_type": "code",
   "execution_count": 79,
   "id": "3310fd38",
   "metadata": {},
   "outputs": [
    {
     "data": {
      "text/plain": [
       "((242, 13), (61, 13), (242,), (61,))"
      ]
     },
     "execution_count": 79,
     "metadata": {},
     "output_type": "execute_result"
    }
   ],
   "source": [
    "X_train.shape, X_test.shape, y_train.shape, y_test.shape    \n",
    "#Biến đổi thành mảng dữ liệu(dòng, cột)"
   ]
  },
  {
   "cell_type": "markdown",
   "id": "b9550bac",
   "metadata": {},
   "source": [
    "# Model Training\n",
    "\n"
   ]
  },
  {
   "cell_type": "code",
   "execution_count": 80,
   "id": "5f090a6a",
   "metadata": {},
   "outputs": [],
   "source": [
    "# Mô hình\n",
    "#Sử dụng 3 mô hình: Hồi quy tuyến tính và 2 Mô hình học máy nằm ngoài chương trình là KNN và Lớp Phần Loại Ngẫu Nhiên\n",
    "\n",
    "models = {\n",
    "    'LogisticRegression': LogisticRegression(max_iter=1000),\n",
    "    'SVM' : SVC(),\n",
    "}\n",
    "\n",
    "# Khởi tạo Mô Hình\n",
    "def fit_and_score(models, X_train, X_test, y_train, y_test):\n",
    "    \"\"\"\n",
    "    Đặt seed ngẫu nhiên để đảm bảo tính nhất quán của kết quả.\n",
    "    Khởi tạo một từ điển để lưu trữ các kết quả đánh giá.\n",
    "    Lặp qua các mô hình trong từ điển models.\n",
    "    Huấn luyện mô hình với tập huấn luyện.\n",
    "    Đánh giá hiệu suất của mô hình với tập kiểm tra.\n",
    "    Lưu kết quả đánh giá vào từ điển model_scores.\n",
    "    Trả về từ điển model_scores.\n",
    "    \"\"\"\n",
    "    \n",
    "    # Lấy ngẫu nhiên 42 trường\n",
    "    np.random.seed(42)\n",
    "    \n",
    "    # Lưu mô hình vào Dict\n",
    "    model_scores = {}\n",
    "    \n",
    "    # lặp qua các mô hình và đánh giá độ tốt\n",
    "    for model_name, model in models.items():\n",
    "        model.fit(X_train, y_train) # Khởi tạo mô hình với tập train\n",
    "        score = model.score(X_test, y_test) # độ tốt với tập test\n",
    "        model_scores[model_name] = score # độ tốt cho từng mô hình\n",
    "        \n",
    "    return model_scores        "
   ]
  },
  {
   "cell_type": "code",
   "execution_count": 81,
   "id": "64d7fead",
   "metadata": {},
   "outputs": [
    {
     "data": {
      "text/plain": [
       "{'LogisticRegression': 0.8852459016393442, 'SVM': 0.7049180327868853}"
      ]
     },
     "execution_count": 81,
     "metadata": {},
     "output_type": "execute_result"
    }
   ],
   "source": [
    "# Độ phù hợp và độ tốt của mô hình\n",
    "model_scores = fit_and_score(models, X_train, X_test, y_train, y_test)\n",
    "\n",
    "model_scores\n",
    "#Đánh giá mô hình với tập train và test "
   ]
  },
  {
   "cell_type": "code",
   "execution_count": 82,
   "id": "0575f20c",
   "metadata": {},
   "outputs": [
    {
     "data": {
      "text/html": [
       "<div>\n",
       "<style scoped>\n",
       "    .dataframe tbody tr th:only-of-type {\n",
       "        vertical-align: middle;\n",
       "    }\n",
       "\n",
       "    .dataframe tbody tr th {\n",
       "        vertical-align: top;\n",
       "    }\n",
       "\n",
       "    .dataframe thead th {\n",
       "        text-align: right;\n",
       "    }\n",
       "</style>\n",
       "<table border=\"1\" class=\"dataframe\">\n",
       "  <thead>\n",
       "    <tr style=\"text-align: right;\">\n",
       "      <th></th>\n",
       "      <th>LogisticRegression</th>\n",
       "      <th>SVM</th>\n",
       "    </tr>\n",
       "  </thead>\n",
       "  <tbody>\n",
       "    <tr>\n",
       "      <th>accuracy</th>\n",
       "      <td>0.885246</td>\n",
       "      <td>0.704918</td>\n",
       "    </tr>\n",
       "  </tbody>\n",
       "</table>\n",
       "</div>"
      ],
      "text/plain": [
       "          LogisticRegression       SVM\n",
       "accuracy            0.885246  0.704918"
      ]
     },
     "execution_count": 82,
     "metadata": {},
     "output_type": "execute_result"
    }
   ],
   "source": [
    "model_compare = pd.DataFrame(model_scores, index=['accuracy'])\n",
    "\n",
    "model_compare.head()"
   ]
  },
  {
   "cell_type": "code",
   "execution_count": 83,
   "id": "7fc614cf",
   "metadata": {},
   "outputs": [
    {
     "data": {
      "text/plain": [
       "<Axes: >"
      ]
     },
     "execution_count": 83,
     "metadata": {},
     "output_type": "execute_result"
    },
    {
     "data": {
      "image/png": "[encoded data removed]",
      "text/plain": [
       "<Figure size 640x480 with 1 Axes>"
      ]
     },
     "metadata": {},
     "output_type": "display_data"
    }
   ],
   "source": [
    "model_compare.T.plot(kind='bar')\n",
    "#Mô hình tỉ lệ độ tốt của từng mô hình"
   ]
  },
  {
   "cell_type": "markdown",
   "id": "670c625d",
   "metadata": {},
   "source": [
    "## Calculate evaluation metrics using Cross Validated Precision, Recall and F1 score"
   ]
  },
  {
   "cell_type": "code",
   "execution_count": 84,
   "id": "847e2e7c",
   "metadata": {},
   "outputs": [],
   "source": [
    "# Tạo lớp phân loại mới với tham số hiện tại\n",
    "clf = LogisticRegression(C=0.23357214690901212, solver='liblinear')\n",
    "# Thuật toán liblinear là một thuật toán huấn luyện nhanh chóng và hiệu quả cho các tập dữ liệu nhỏ đến trung bình. \n",
    "# Thuật toán này sử dụng thuật toán tối ưu hóa tuyến tính để tìm tham số tối ưu của mô hình"
   ]
  },
  {
   "cell_type": "code",
   "execution_count": 85,
   "id": "91fe59e5",
   "metadata": {},
   "outputs": [
    {
     "data": {
      "text/plain": [
       "0.8479781420765027"
      ]
     },
     "execution_count": 85,
     "metadata": {},
     "output_type": "execute_result"
    }
   ],
   "source": [
    "# Đánh giá tính chính xác chính xác với phương pháp Accuracy\n",
    "cv_accuracy = cross_val_score(clf, X, y, scoring='accuracy', cv=5)\n",
    "#Hàm này chia tập dữ liệu thành 5 tập con, sau đó huấn luyện ngẫu nhiên 4 tập và đánh giá hiệu suất của mô hình trên tập còn lại\n",
    "cv_accuracy = np.mean(cv_accuracy)\n",
    "# Hiệu suất trung bình sau khi đánh giá hiệu suất của 5 tập dữ liệu con\n",
    "cv_accuracy"
   ]
  },
  {
   "cell_type": "code",
   "execution_count": null,
   "id": "ae2c5e6c",
   "metadata": {},
   "outputs": [],
   "source": []
  },
  {
   "cell_type": "code",
   "execution_count": 86,
   "id": "6f9d2ac6",
   "metadata": {},
   "outputs": [
    {
     "data": {
      "text/plain": [
       "0.8215873015873015"
      ]
     },
     "execution_count": 86,
     "metadata": {},
     "output_type": "execute_result"
    }
   ],
   "source": [
    "# Đánh giá tính chính xác của mô hình dựa theo phương pháo Precision\n",
    "cv_precision = cross_val_score(clf, X, y, scoring='precision', cv=5)\n",
    "\n",
    "cv_precision = np.mean(cv_precision)\n",
    "cv_precision"
   ]
  },
  {
   "cell_type": "code",
   "execution_count": 87,
   "id": "cb856c94",
   "metadata": {},
   "outputs": [
    {
     "data": {
      "text/plain": [
       "0.9272727272727274"
      ]
     },
     "execution_count": 87,
     "metadata": {},
     "output_type": "execute_result"
    }
   ],
   "source": [
    "# Đánh giá tính chính xác của mô hình với phương pháp Recall\n",
    "cv_recall = cross_val_score(clf, X, y, scoring='recall', cv=5)\n",
    "\n",
    "cv_recall = np.mean(cv_recall)\n",
    "cv_recall"
   ]
  },
  {
   "cell_type": "code",
   "execution_count": 88,
   "id": "e6336971",
   "metadata": {},
   "outputs": [
    {
     "data": {
      "text/plain": [
       "0.8705403543192143"
      ]
     },
     "execution_count": 88,
     "metadata": {},
     "output_type": "execute_result"
    }
   ],
   "source": [
    "# Đánh giá tính chính xác của mô hình với phương pháp F1\n",
    "cv_f1 = cross_val_score(clf, X, y, scoring='f1', cv=5)\n",
    "\n",
    "cv_f1 = np.mean(cv_f1)\n",
    "cv_f1"
   ]
  },
  {
   "cell_type": "code",
   "execution_count": 89,
   "id": "3f666616",
   "metadata": {},
   "outputs": [
    {
     "data": {
      "image/png": "[encoded data removed]",
      "text/plain": [
       "<Figure size 640x480 with 1 Axes>"
      ]
     },
     "metadata": {},
     "output_type": "display_data"
    }
   ],
   "source": [
    "# Trực quan hóa các hiệu suất của mô hình theo các phương pháp đánh giá độ chính xác\n",
    "cv_metrics = pd.DataFrame({'Accuracy': cv_accuracy,\n",
    "                                            'Precision': cv_precision,\n",
    "                                            'Recall': cv_recall,\n",
    "                                            'F1': cv_f1},\n",
    "                                             index=[0])\n",
    "\n",
    "cv_metrics.T.plot.bar(legend=False)\n",
    "#sử dụng thư viện plt để vẽ các thanh chỉ số hiệu suất của mô hình\n",
    "plt.title('Cross Validated Classification Metrics')\n",
    "plt.xticks(rotation=30);  "
   ]
  },
  {
   "cell_type": "markdown",
   "id": "4c0a2eca",
   "metadata": {},
   "source": [
    "## Feature Importance\n",
    "#An\n"
   ]
  },
  {
   "cell_type": "code",
   "execution_count": null,
   "id": "7e7e9985",
   "metadata": {},
   "outputs": [],
   "source": [
    "# Huấn luyện mô hình Logistic Regression\n",
    "\n",
    "\n",
    "from sklearn import svm\n",
    "\n",
    "\n",
    "best_model = LogisticRegression()\n",
    "best_model.fit(X_train, y_train)\n",
    "\n",
    "# Huấn luyện mô hình SVM\n",
    "svm_model = svm.SVC()\n",
    "svm_model.fit(X_train, y_train)\n",
    "\n",
    "# Dự đoán trên tập kiểm tra\n",
    "lr_predictions = best_model.predict(X_test)\n",
    "svm_predictions = svm_model.predict(X_test)\n",
    "\n",
    "lr_accuracy = accuracy_score(y_test, lr_predictions)\n",
    "svm_accuracy = accuracy_score(y_test, svm_predictions)\n",
    "\n",
    "lr_precision = precision_score(y_test, lr_predictions)\n",
    "svm_precision = precision_score(y_test, svm_predictions)\n",
    "\n",
    "lr_recall = recall_score(y_test, lr_predictions)\n",
    "svm_recall = recall_score(y_test, svm_predictions)\n",
    "\n",
    "lr_f1_score = f1_score(y_test, lr_predictions)\n",
    "svm_f1_score = f1_score(y_test, svm_predictions)"
   ]
  },
  {
   "cell_type": "code",
   "execution_count": 91,
   "id": "7be63dd7",
   "metadata": {},
   "outputs": [
    {
     "data": {
      "text/plain": [
       "Index(['age', 'sex', 'cp', 'trestbps', 'chol', 'fbs', 'restecg', 'thalach',\n",
       "       'exang', 'oldpeak', 'slope', 'ca', 'thal'],\n",
       "      dtype='object')"
      ]
     },
     "execution_count": 91,
     "metadata": {},
     "output_type": "execute_result"
    }
   ],
   "source": [
    "X.columns"
   ]
  },
  {
   "cell_type": "code",
   "execution_count": 96,
   "id": "50704a18",
   "metadata": {},
   "outputs": [],
   "source": [
    "import tkinter as tk\n",
    "\n",
    "from sklearn import svm\n",
    "\n",
    "\n",
    "\n",
    "# Tạo giao diện đồ họa\n",
    "window = tk.Tk()\n",
    "window.title(\"Dự đoán bệnh tim\")\n",
    "\n",
    "feature_names = X.columns.tolist()\n",
    "\n",
    "# Định nghĩa hàm dự đoán bệnh tim sử dụng mô hình Logistic Regression\n",
    "def predict_Heart_Disease_LR(model, feature_names, age, sex, cp, trestbps, chol, fbs, restecg, thalach, exang, oldpeak, slope, ca, thal):\n",
    "    input_features = np.array([age, sex, cp, trestbps, chol, fbs, restecg, thalach, exang, oldpeak, slope, ca, thal]).reshape(1, -1)\n",
    "    input_features = pd.DataFrame(input_features, columns=feature_names)\n",
    "    prediction = model.predict(input_features)[0]\n",
    "    return prediction\n",
    "\n",
    "# Định nghĩa hàm dự đoán bệnh tim sử dụng mô hình SVM\n",
    "def predict_Heart_Disease_SVM(model, feature_names, age, sex, cp, trestbps, chol, fbs, restecg, thalach, exang, oldpeak, slope, ca, thal):\n",
    "    input_features = np.array([age, sex, cp, trestbps, chol, fbs, restecg, thalach, exang, oldpeak, slope, ca, thal]).reshape(1, -1)\n",
    "    input_features = pd.DataFrame(input_features, columns=feature_names)\n",
    "    prediction = model.predict(input_features)[0]\n",
    "    return prediction\n",
    "\n",
    "# Thêm hàm xử lý sự kiện khi nhấn nút Dự đoán sử dụng mô hình Logistic Regression\n",
    "def handle_predict_button_lr():\n",
    "    age = age_entry.get()\n",
    "    sex = sex_entry.get()\n",
    "    cp = cp_entry.get()\n",
    "    trestbps = trestbps_entry.get()\n",
    "    chol = chol_entry.get()\n",
    "    fbs = fbs_entry.get()\n",
    "    restecg = restecg_entry.get()\n",
    "    thalach = thalach_entry.get()\n",
    "    exang = exang_entry.get()\n",
    "    oldpeak = oldpeak_entry.get()\n",
    "    slope = slope_entry.get()\n",
    "    ca = ca_entry.get()\n",
    "    thal = thal_entry.get()\n",
    "\n",
    "    prediction = predict_Heart_Disease_LR(best_model, feature_names, age, sex, cp, trestbps, chol, fbs, restecg, thalach, exang, oldpeak, slope, ca, thal)\n",
    "\n",
    "    result_label.config(text=f\"Kết quả dự đoán (Logistic Regression): {prediction}\")\n",
    "\n",
    "    # Tính toán độ chính xác của mô hình Logistic Regression\n",
    "    accuracy_label.config(text=f\"Độ chính xác (Logistic Regression): {cv_accuracy}\")\n",
    "    precision_label.config(text=f\"Precision (Logistic Regression): {cv_precision}\")\n",
    "    recall_label.config(text=f\"Recall (Logistic Regression): {cv_recall}\")\n",
    "    f1_score_label.config(text=f\"F1-Score (Logistic Regression): {cv_f1}\")\n",
    "\n",
    "# Thêm hàm xử lý sự kiện khi nhấn nút Dự đoán sử dụng mô hình SVM\n",
    "def handle_predict_button_svm():\n",
    "    age = age_entry.get()\n",
    "    sex = sex_entry.get()\n",
    "    cp = cp_entry.get()\n",
    "    trestbps = trestbps_entry.get()\n",
    "    chol = chol_entry.get()\n",
    "    fbs = fbs_entry.get()\n",
    "    restecg = restecg_entry.get()\n",
    "    thalach = thalach_entry.get()\n",
    "    exang = exang_entry.get()\n",
    "    oldpeak = oldpeak_entry.get()\n",
    "    slope = slope_entry.get()\n",
    "    ca = ca_entry.get()\n",
    "    thal = thal_entry.get()\n",
    "\n",
    "    prediction = predict_Heart_Disease_SVM(svm_model, feature_names, age, sex, cp, trestbps, chol, fbs, restecg, thalach, exang, oldpeak, slope, ca, thal)\n",
    "\n",
    "    result_label.config(text=f\"Kết quả dự đoán (SVM): {prediction}\")\n",
    "\n",
    "    # Tính toán độ chính xác của mô hình SVM\n",
    "    accuracy_label.config(text=f\"Độ chính xác (SVM): {svm_accuracy}\")\n",
    "    precision_label.config(text=f\"Precision (SVM): {svm_precision}\")\n",
    "    recall_label.config(text=f\"Recall (SVM): {svm_recall}\")\n",
    "    f1_score_label.config(text=f\"F1-Score (SVM): {svm_f1_score}\")\n",
    "\n",
    "# Tạo các thành phần giao diện\n",
    "age_label = tk.Label(window, text=\"Tuổi:\")\n",
    "age_label.pack()\n",
    "age_entry = tk.Entry(window)\n",
    "age_entry.pack()\n",
    "\n",
    "sex_label = tk.Label(window, text=\"Giới tính (0: Nữ, 1: Nam):\")\n",
    "sex_label.pack()\n",
    "sex_entry = tk.Entry(window)\n",
    "sex_entry.pack()\n",
    "cp_label = tk.Label(window, text=\"Loại đau ngực (0-3):\")\n",
    "cp_label.pack()\n",
    "cp_entry = tk.Entry(window)\n",
    "cp_entry.pack()\n",
    "\n",
    "trestbps_label = tk.Label(window, text=\"Huyết áp tĩnh (mm Hg):\")\n",
    "trestbps_label.pack()\n",
    "trestbps_entry = tk.Entry(window)\n",
    "trestbps_entry.pack()\n",
    "\n",
    "# Tạo các nhãn và ô nhập liệu cho các thuộc tính khác\n",
    "chol_label = tk.Label(window, text=\"Cholesterol (mg/dL): \")\n",
    "chol_label.pack()\n",
    "chol_entry = tk.Entry(window)\n",
    "chol_entry.pack()\n",
    "\n",
    "fbs_label = tk.Label(window, text=\"Đường huyết nhanh (> 120 mg/dL) (0 nếu không, 1 nếu có):  \")\n",
    "fbs_label.pack()\n",
    "fbs_entry = tk.Entry(window)\n",
    "fbs_entry.pack()\n",
    "\n",
    "restecg_label = tk.Label(window, text=\"Kết quả điện tâm đồ (0-2): \")\n",
    "restecg_label.pack()\n",
    "restecg_entry = tk.Entry(window)\n",
    "restecg_entry.pack()\n",
    "\n",
    "thalach_label = tk.Label(window, text=\"Nhịp tim tối đa đạt được:  \")\n",
    "thalach_label.pack()\n",
    "thalach_entry = tk.Entry(window)\n",
    "thalach_entry.pack()\n",
    "\n",
    "exang_label = tk.Label(window, text=\"Tình trạng tập thể dục gây đau thắt ngực (0 nếu không, 1 nếu có):  \")\n",
    "exang_label.pack()\n",
    "exang_entry = tk.Entry(window)\n",
    "exang_entry.pack()\n",
    "\n",
    "oldpeak_label = tk.Label(window, text=\"ST chênh xuống do gắng sức so với nghỉ ngơi: \")\n",
    "oldpeak_label.pack()\n",
    "oldpeak_entry = tk.Entry(window)\n",
    "oldpeak_entry.pack()\n",
    "\n",
    "slope_label = tk.Label(window, text=\"Độ dốc đỉnh tập thể dục (0-2):  \")\n",
    "slope_label.pack()\n",
    "slope_entry = tk.Entry(window)\n",
    "slope_entry.pack()\n",
    "\n",
    "ca_label = tk.Label(window, text=\"Số mạch cận lân (0-3): \")\n",
    "ca_label.pack()\n",
    "ca_entry = tk.Entry(window)\n",
    "ca_entry.pack()\n",
    "\n",
    "thal_label = tk.Label(window, text=\"Thalassemia (0-3): \")\n",
    "thal_label.pack()\n",
    "thal_entry = tk.Entry(window)\n",
    "thal_entry.pack()\n",
    "\n",
    "# ... Tiếp tục tạo các thành phần giao diện cho các thuộc tính khác\n",
    "\n",
    "predict_button_lr = tk.Button(window, text=\"Dự đoán (Logistic Regression)\", command=handle_predict_button_lr)\n",
    "predict_button_lr.pack()\n",
    "\n",
    "predict_button_svm = tk.Button(window, text=\"Dự đoán (SVM)\", command=handle_predict_button_svm)\n",
    "predict_button_svm.pack()\n",
    "\n",
    "result_label = tk.Label(window, text=\"\")\n",
    "result_label.pack()\n",
    "\n",
    "accuracy_label = tk.Label(window, text=\"\")\n",
    "accuracy_label.pack()\n",
    "\n",
    "precision_label = tk.Label(window, text=\"\")\n",
    "precision_label.pack()\n",
    "\n",
    "recall_label = tk.Label(window, text=\"\")\n",
    "recall_label.pack()\n",
    "\n",
    "f1_score_label = tk.Label(window, text=\"\")\n",
    "f1_score_label.pack()\n",
    "\n",
    "window.mainloop()"
   ]
  }
 ],
 "metadata": {
  "kernelspec": {
   "display_name": "Python 3",
   "language": "python",
   "name": "python3"
  },
  "language_info": {
   "codemirror_mode": {
    "name": "ipython",
    "version": 3
   },
   "file_extension": ".py",
   "mimetype": "text/x-python",
   "name": "python",
   "nbconvert_exporter": "python",
   "pygments_lexer": "ipython3",
   "version": "3.10.4"
  }
 },
 "nbformat": 4,
 "nbformat_minor": 5
}
